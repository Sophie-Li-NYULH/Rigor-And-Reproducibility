{
  "nbformat": 4,
  "nbformat_minor": 0,
  "metadata": {
    "colab": {
      "provenance": [],
      "authorship_tag": "ABX9TyOmxD/UmSUYtxt/WlcHimdW",
      "include_colab_link": true
    },
    "kernelspec": {
      "name": "python3",
      "display_name": "Python 3"
    },
    "language_info": {
      "name": "python"
    }
  },
  "cells": [
    {
      "cell_type": "markdown",
      "metadata": {
        "id": "view-in-github",
        "colab_type": "text"
      },
      "source": [
        "<a href=\"https://colab.research.google.com/github/Sophie-Li-NYULH/Rigor-And-Reproducibility/blob/main/ComputationalReproducibilityHW.ipynb\" target=\"_parent\"><img src=\"https://colab.research.google.com/assets/colab-badge.svg\" alt=\"Open In Colab\"/></a>"
      ]
    },
    {
      "cell_type": "markdown",
      "source": [
        "10/25/23"
      ],
      "metadata": {
        "id": "GZV3VXa6ijCY"
      }
    },
    {
      "cell_type": "code",
      "source": [
        "2*5"
      ],
      "metadata": {
        "colab": {
          "base_uri": "https://localhost:8080/"
        },
        "id": "pcSwigbgib1e",
        "outputId": "75b3a02e-a008-4ba3-c51e-ae71ab63fe63"
      },
      "execution_count": 2,
      "outputs": [
        {
          "output_type": "execute_result",
          "data": {
            "text/plain": [
              "10"
            ]
          },
          "metadata": {},
          "execution_count": 2
        }
      ]
    },
    {
      "cell_type": "markdown",
      "source": [
        "Tools such as GitHub are incredibly effective in improving computational reproducibility, particularly when they are used by many. Repositories on GitHub are great for storing data and data processing methods, as well as fro sharing wtih collaborators. They offer a centralized location in which people can work together to process data while also tracking the changes made by each person so that it is clear to everyone what is going on in the data analysis process. The feature of tracking changes is very beneficial. In the process of data analysis, we go through many iterations of code. In elaborate projects, especially those that involve multiple people with various expertise, it is very easy to lose track of what changes are made and why. Tracking changes and publishing them on GitHub simplifies this process, so that there is always a source for the team to reference when questions arise. Additionally, by making repositories public, other researchers can access the data presented in papers as well as the exact analysis methods used to process the data. This gives a lot of transparency to the data and analyses presented. At any time, other people can use the public data and reproduce the analysis, analyze the data in a different way, or use the methods presented to analyze their own data."
      ],
      "metadata": {
        "id": "YMRL_IREl44A"
      }
    }
  ]
}